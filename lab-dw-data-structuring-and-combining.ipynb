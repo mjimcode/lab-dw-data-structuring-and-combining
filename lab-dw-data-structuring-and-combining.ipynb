{
 "cells": [
  {
   "cell_type": "markdown",
   "id": "25d7736c-ba17-4aff-b6bb-66eba20fbf4e",
   "metadata": {
    "id": "25d7736c-ba17-4aff-b6bb-66eba20fbf4e"
   },
   "source": [
    "# Lab | Data Structuring and Combining Data"
   ]
  },
  {
   "cell_type": "markdown",
   "id": "a2cdfc70-44c8-478c-81e7-2bc43fdf4986",
   "metadata": {
    "id": "a2cdfc70-44c8-478c-81e7-2bc43fdf4986"
   },
   "source": [
    "## Challenge 1: Combining & Cleaning Data\n",
    "\n",
    "In this challenge, we will be working with the customer data from an insurance company, as we did in the two previous labs. The data can be found here:\n",
    "- https://raw.githubusercontent.com/data-bootcamp-v4/data/main/file1.csv\n",
    "\n",
    "But this time, we got new data, which can be found in the following 2 CSV files located at the links below.\n",
    "\n",
    "- https://raw.githubusercontent.com/data-bootcamp-v4/data/main/file2.csv\n",
    "- https://raw.githubusercontent.com/data-bootcamp-v4/data/main/file3.csv\n",
    "\n",
    "Note that you'll need to clean and format the new data.\n",
    "\n",
    "Observation:\n",
    "- One option is to first combine the three datasets and then apply the cleaning function to the new combined dataset\n",
    "- Another option would be to read the clean file you saved in the previous lab, and just clean the two new files and concatenate the three clean datasets"
   ]
  },
  {
   "cell_type": "code",
   "execution_count": null,
   "id": "492d06e3-92c7-4105-ac72-536db98d3244",
   "metadata": {
    "id": "492d06e3-92c7-4105-ac72-536db98d3244"
   },
   "outputs": [],
   "source": [
    "import pandas as pd\n",
    "\n",
    "# Load the datasets\n",
    "file1_url = 'https://raw.githubusercontent.com/data-bootcamp-v4/data/main/file1.csv'\n",
    "file2_url = 'https://raw.githubusercontent.com/data-bootcamp-v4/data/main/file2.csv'\n",
    "file3_url = 'https://raw.githubusercontent.com/data-bootcamp-v4/data/main/file3.csv'\n",
    "\n",
    "# Read the CSV files\n",
    "df1 = pd.read_csv(file1_url)\n",
    "df2 = pd.read_csv(file2_url)\n",
    "df3 = pd.read_csv(file3_url)\n",
    "\n",
    "# Combine the datasets\n",
    "combined_df = pd.concat([df1, df2, df3], ignore_index=True)\n",
    "\n",
    "# Function to clean the data\n",
    "def clean_data(df):\n",
    "    # Example cleaning steps\n",
    "    df.columns = df.columns.str.strip()  # Strip whitespace from column names\n",
    "    df.drop_duplicates(inplace=True)  # Remove duplicates\n",
    "    \n",
    "    # Fill missing values (example: fill NaNs in 'age' with the mean)\n",
    "    if 'age' in df.columns:\n",
    "        df['age'].fillna(df['age'].mean(), inplace=True)\n",
    "\n",
    "    # Convert data types (example: ensure 'date' column is in datetime format)\n",
    "    if 'date' in df.columns:\n",
    "        df['date'] = pd.to_datetime(df['date'], errors='coerce')\n",
    "    \n",
    "    # Rename columns for consistency\n",
    "    df.rename(columns={'customer_id': 'customerID'}, inplace=True)\n",
    "    \n",
    "    return df\n",
    "\n",
    "# Clean the combined dataset\n",
    "cleaned_df = clean_data(combined_df)\n",
    "\n",
    "# Save the cleaned dataset to a new CSV file (optional)\n",
    "cleaned_df.to_csv('cleaned_customer_data.csv', index=False)\n",
    "\n",
    "# Display the cleaned dataframe\n",
    "cleaned_df.head"
   ]
  },
  {
   "cell_type": "markdown",
   "id": "31b8a9e7-7db9-4604-991b-ef6771603e57",
   "metadata": {
    "id": "31b8a9e7-7db9-4604-991b-ef6771603e57"
   },
   "source": [
    "# Challenge 2: Structuring Data"
   ]
  },
  {
   "cell_type": "markdown",
   "id": "a877fd6d-7a0c-46d2-9657-f25036e4ca4b",
   "metadata": {
    "id": "a877fd6d-7a0c-46d2-9657-f25036e4ca4b"
   },
   "source": [
    "In this challenge, we will continue to work with customer data from an insurance company, but we will use a dataset with more columns, called marketing_customer_analysis.csv, which can be found at the following link:\n",
    "\n",
    "https://raw.githubusercontent.com/data-bootcamp-v4/data/main/marketing_customer_analysis_clean.csv\n",
    "\n",
    "This dataset contains information such as customer demographics, policy details, vehicle information, and the customer's response to the last marketing campaign. Our goal is to explore and analyze this data by performing data cleaning, formatting, and structuring."
   ]
  },
  {
   "cell_type": "code",
   "execution_count": null,
   "id": "aa10d9b0-1c27-4d3f-a8e4-db6ab73bfd26",
   "metadata": {
    "id": "aa10d9b0-1c27-4d3f-a8e4-db6ab73bfd26"
   },
   "outputs": [],
   "source": [
    "import pandas as pd\n",
    "\n",
    "# Load the dataset\n",
    "url = 'https://raw.githubusercontent.com/data-bootcamp-v4/data/main/marketing_customer_analysis_clean.csv'\n",
    "df = pd.read_csv(url)\n",
    "\n",
    "# Display initial information\n",
    "print(\"Initial Data Information:\")\n",
    "print(df.info())\n",
    "print(\"\\nInitial Data Preview:\")\n",
    "print(df.head())\n",
    "\n",
    "# Data Cleaning and Formatting\n",
    "def clean_and_structure_data(df):\n",
    "    # Strip whitespace from column names\n",
    "    df.columns = df.columns.str.strip()\n",
    "    \n",
    "    # Fill missing values (example: fill NaNs in 'Income' with the median)\n",
    "    if 'Income' in df.columns:\n",
    "        df['Income'].fillna(df['Income'].median(), inplace=True)\n",
    "    \n",
    "    # Convert 'Effective To Date' to datetime format\n",
    "    if 'Effective To Date' in df.columns:\n",
    "        df['Effective To Date'] = pd.to_datetime(df['Effective To Date'], errors='coerce')\n",
    "    \n",
    "    # Renaming columns for consistency\n",
    "    df.rename(columns={'customer_id': 'CustomerID', 'Vehicle Class': 'VehicleClass'}, inplace=True)\n",
    "    \n",
    "    # Create new features (example: extracting the year from 'Effective To Date')\n",
    "    if 'Effective To Date' in df.columns:\n",
    "        df['Effective Year'] = df['Effective To Date'].dt.year\n",
    "    \n",
    "    # Drop unnecessary columns if needed (example: dropping 'Unnamed: 0')\n",
    "    if 'Unnamed: 0' in df.columns:\n",
    "        df.drop(columns=['Unnamed: 0'], inplace=True)\n",
    "    \n",
    "    return df\n",
    "\n",
    "# Clean and structure the data\n",
    "cleaned_df = clean_and_structure_data(df)\n",
    "\n",
    "# Display cleaned data information\n",
    "print(\"\\nCleaned Data Information:\")\n",
    "print(cleaned_df.info())\n",
    "print(\"\\nCleaned Data Preview:\")\n",
    "print(cleaned_df.head())\n",
    "\n",
    "# Save the cleaned and structured dataset to a new CSV file (optional)\n",
    "cleaned_df.to_csv('structured_marketing_customer_data.csv', index=False)"
   ]
  },
  {
   "cell_type": "markdown",
   "id": "df35fd0d-513e-4e77-867e-429da10a9cc7",
   "metadata": {
    "id": "df35fd0d-513e-4e77-867e-429da10a9cc7"
   },
   "source": [
    "1. You work at the marketing department and you want to know which sales channel brought the most sales in terms of total revenue. Using pivot, create a summary table showing the total revenue for each sales channel (branch, call center, web, and mail).\n",
    "Round the total revenue to 2 decimal points.  Analyze the resulting table to draw insights."
   ]
  },
  {
   "cell_type": "code",
   "execution_count": null,
   "id": "4cee4ed4",
   "metadata": {},
   "outputs": [],
   "source": [
    "import pandas as pd\n",
    "\n",
    "# Load the cleaned dataset\n",
    "url = 'https://raw.githubusercontent.com/data-bootcamp-v4/data/main/marketing_customer_analysis_clean.csv'\n",
    "df = pd.read_csv(url)\n",
    "\n",
    "# Clean the dataset (if not already cleaned)\n",
    "df.columns = df.columns.str.strip()  # Strip whitespace from column names\n",
    "\n",
    "# Create a pivot table to summarize total revenue by sales channel\n",
    "pivot_table = df.pivot_table(values='Total Revenue', index='Sales Channel', aggfunc='sum').reset_index()\n",
    "\n",
    "# Round the total revenue to 2 decimal points\n",
    "pivot_table['Total Revenue'] = pivot_table['Total Revenue'].round(2)\n",
    "\n",
    "# Display the pivot table\n",
    "pivot_table"
   ]
  },
  {
   "cell_type": "markdown",
   "id": "640993b2-a291-436c-a34d-a551144f8196",
   "metadata": {
    "id": "640993b2-a291-436c-a34d-a551144f8196"
   },
   "source": [
    "2. Create a pivot table that shows the average customer lifetime value per gender and education level. Analyze the resulting table to draw insights."
   ]
  },
  {
   "cell_type": "code",
   "execution_count": null,
   "id": "5d755a8a",
   "metadata": {},
   "outputs": [],
   "source": [
    "import pandas as pd\n",
    "\n",
    "# Load the cleaned dataset\n",
    "url = 'https://raw.githubusercontent.com/data-bootcamp-v4/data/main/marketing_customer_analysis_clean.csv'\n",
    "df = pd.read_csv(url)\n",
    "\n",
    "# Clean the dataset (if not already cleaned)\n",
    "df.columns = df.columns.str.strip()  # Strip whitespace from column names\n",
    "\n",
    "# Create a pivot table to show average customer lifetime value per gender and education level\n",
    "pivot_table = df.pivot_table(values='Customer Lifetime Value', \n",
    "                             index='Gender', \n",
    "                             columns='Education Level', \n",
    "                             aggfunc='mean').round(2)\n",
    "\n",
    "# Display the pivot table\n",
    "pivot_table"
   ]
  },
  {
   "cell_type": "markdown",
   "id": "32c7f2e5-3d90-43e5-be33-9781b6069198",
   "metadata": {
    "id": "32c7f2e5-3d90-43e5-be33-9781b6069198"
   },
   "source": [
    "## Bonus\n",
    "\n",
    "You work at the customer service department and you want to know which months had the highest number of complaints by policy type category. Create a summary table showing the number of complaints by policy type and month.\n",
    "Show it in a long format table."
   ]
  },
  {
   "cell_type": "markdown",
   "id": "e3d09a8f-953c-448a-a5f8-2e5a8cca7291",
   "metadata": {
    "id": "e3d09a8f-953c-448a-a5f8-2e5a8cca7291"
   },
   "source": [
    "*In data analysis, a long format table is a way of structuring data in which each observation or measurement is stored in a separate row of the table. The key characteristic of a long format table is that each column represents a single variable, and each row represents a single observation of that variable.*\n",
    "\n",
    "*More information about long and wide format tables here: https://www.statology.org/long-vs-wide-data/*"
   ]
  },
  {
   "cell_type": "code",
   "execution_count": null,
   "id": "3a069e0b-b400-470e-904d-d17582191be4",
   "metadata": {
    "id": "3a069e0b-b400-470e-904d-d17582191be4"
   },
   "outputs": [],
   "source": [
    "import pandas as pd\n",
    "\n",
    "# Load the cleaned dataset\n",
    "url = 'https://raw.githubusercontent.com/data-bootcamp-v4/data/main/marketing_customer_analysis_clean.csv'\n",
    "df = pd.read_csv(url)\n",
    "\n",
    "# Clean the dataset (if not already cleaned)\n",
    "df.columns = df.columns.str.strip()  # Strip whitespace from column names\n",
    "\n",
    "# Convert 'Complaint Date' to datetime format if applicable\n",
    "df['Complaint Date'] = pd.to_datetime(df['Complaint Date'], errors='coerce')\n",
    "\n",
    "# Extract month from the 'Complaint Date' and create a new column\n",
    "df['Month'] = df['Complaint Date'].dt.month_name()\n",
    "\n",
    "# Create a summary table showing the number of complaints by policy type and month\n",
    "summary_table = df.groupby(['Policy Type', 'Month']).size().reset_index(name='Number of Complaints')\n",
    "\n",
    "# Sort the summary table for better readability\n",
    "summary_table = summary_table.sort_values(by=['Policy Type', 'Month'])\n",
    "\n",
    "# Display the summary table in long format\n",
    "summary_table"
   ]
  }
 ],
 "metadata": {
  "colab": {
   "provenance": []
  },
  "kernelspec": {
   "display_name": "Python 3 (ipykernel)",
   "language": "python",
   "name": "python3"
  },
  "language_info": {
   "codemirror_mode": {
    "name": "ipython",
    "version": 3
   },
   "file_extension": ".py",
   "mimetype": "text/x-python",
   "name": "python",
   "nbconvert_exporter": "python",
   "pygments_lexer": "ipython3",
   "version": "3.9.13"
  }
 },
 "nbformat": 4,
 "nbformat_minor": 5
}
